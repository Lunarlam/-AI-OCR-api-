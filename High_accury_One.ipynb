{
 "cells": [
  {
   "cell_type": "code",
   "execution_count": 2,
   "metadata": {},
   "outputs": [
    {
     "name": "stdout",
     "output_type": "stream",
     "text": [
      "Collecting requests\n",
      "  Using cached requests-2.32.3-py3-none-any.whl.metadata (4.6 kB)\n",
      "Requirement already satisfied: charset-normalizer<4,>=2 in c:\\python312\\lib\\site-packages (from requests) (3.3.2)\n",
      "Requirement already satisfied: idna<4,>=2.5 in c:\\python312\\lib\\site-packages (from requests) (3.7)\n",
      "Requirement already satisfied: urllib3<3,>=1.21.1 in c:\\python312\\lib\\site-packages (from requests) (2.2.2)\n",
      "Collecting certifi>=2017.4.17 (from requests)\n",
      "  Using cached certifi-2024.7.4-py3-none-any.whl.metadata (2.2 kB)\n",
      "Using cached requests-2.32.3-py3-none-any.whl (64 kB)\n",
      "Using cached certifi-2024.7.4-py3-none-any.whl (162 kB)\n",
      "Installing collected packages: certifi, requests\n",
      "Successfully installed certifi-2024.7.4 requests-2.32.3\n"
     ]
    },
    {
     "name": "stderr",
     "output_type": "stream",
     "text": [
      "\n",
      "[notice] A new release of pip is available: 24.0 -> 24.1.2\n",
      "[notice] To update, run: python.exe -m pip install --upgrade pip\n"
     ]
    },
    {
     "name": "stdout",
     "output_type": "stream",
     "text": [
      "Collecting python-docx\n",
      "  Using cached python_docx-1.1.2-py3-none-any.whl.metadata (2.0 kB)\n",
      "Collecting lxml>=3.1.0 (from python-docx)\n",
      "  Downloading lxml-5.2.2-cp312-cp312-win_amd64.whl.metadata (3.5 kB)\n",
      "Collecting typing-extensions>=4.9.0 (from python-docx)\n",
      "  Using cached typing_extensions-4.12.2-py3-none-any.whl.metadata (3.0 kB)\n",
      "Using cached python_docx-1.1.2-py3-none-any.whl (244 kB)\n",
      "Downloading lxml-5.2.2-cp312-cp312-win_amd64.whl (3.8 MB)\n",
      "   ---------------------------------------- 0.0/3.8 MB ? eta -:--:--\n",
      "   ---------------------------------------- 0.0/3.8 MB 640.0 kB/s eta 0:00:06\n",
      "    --------------------------------------- 0.1/3.8 MB 660.6 kB/s eta 0:00:06\n",
      "   - -------------------------------------- 0.2/3.8 MB 1.6 MB/s eta 0:00:03\n",
      "   ---- ----------------------------------- 0.4/3.8 MB 2.7 MB/s eta 0:00:02\n",
      "   --------- ------------------------------ 0.9/3.8 MB 4.2 MB/s eta 0:00:01\n",
      "   ------------- -------------------------- 1.3/3.8 MB 5.3 MB/s eta 0:00:01\n",
      "   ------------------- -------------------- 1.9/3.8 MB 6.3 MB/s eta 0:00:01\n",
      "   ---------------------------- ----------- 2.7/3.8 MB 7.8 MB/s eta 0:00:01\n",
      "   ---------------------------------- ----- 3.3/3.8 MB 8.5 MB/s eta 0:00:01\n",
      "   ---------------------------------------- 3.8/3.8 MB 8.7 MB/s eta 0:00:00\n",
      "Using cached typing_extensions-4.12.2-py3-none-any.whl (37 kB)\n",
      "Installing collected packages: typing-extensions, lxml, python-docx\n",
      "Successfully installed lxml-5.2.2 python-docx-1.1.2 typing-extensions-4.12.2\n"
     ]
    },
    {
     "name": "stderr",
     "output_type": "stream",
     "text": [
      "\n",
      "[notice] A new release of pip is available: 24.0 -> 24.1.2\n",
      "[notice] To update, run: python.exe -m pip install --upgrade pip\n"
     ]
    }
   ],
   "source": [
    "!pip install requests\n",
    "!pip install python-docx"
   ]
  },
  {
   "cell_type": "code",
   "execution_count": 1,
   "metadata": {},
   "outputs": [],
   "source": [
    "import requests\n",
    "import json\n",
    "import base64\n",
    "import os\n",
    "import re\n",
    "from docx import Document\n",
    "from docx.shared import Inches\n",
    "\n"
   ]
  },
  {
   "cell_type": "markdown",
   "metadata": {},
   "source": [
    "#Get_accesscode 用于向百度获取access token key，第一个参数user_api是创建的应用API，第二个参数user_key是创建应用的key"
   ]
  },
  {
   "cell_type": "code",
   "execution_count": 3,
   "metadata": {},
   "outputs": [],
   "source": [
    "def get_accesscode(user_api:str,user_key:str)->str:\n",
    "    url = \"https://aip.baidubce.com/oauth/2.0/token?client_id=\"+user_api+\"&client_secret=\"+user_key+\"&grant_type=client_credentials\"\n",
    "    \n",
    "    payload = json.dumps(\"\")\n",
    "    headers = {\n",
    "        'Content-Type': 'application/json',\n",
    "        'Accept': 'application/json'\n",
    "    }\n",
    "    \n",
    "    response = requests.request(\"POST\", url, headers=headers, data=payload)\n",
    "    access_token = response.json()['access_token']\n",
    "    return access_token"
   ]
  },
  {
   "cell_type": "code",
   "execution_count": 4,
   "metadata": {},
   "outputs": [],
   "source": [
    "access_token_link = get_accesscode(\"rR0nKpwIcY3raJhVXcAdMD2n\",\"KlL7eHPpBOr6xH8nj3ve0qHJcMk27Slf\")"
   ]
  },
  {
   "cell_type": "code",
   "execution_count": 5,
   "metadata": {},
   "outputs": [
    {
     "name": "stdout",
     "output_type": "stream",
     "text": [
      "24.09bb9cde27d7caf80f20f18478848850.2592000.1725592423.282335-100297428\n"
     ]
    }
   ],
   "source": [
    "print(access_token_link)"
   ]
  },
  {
   "cell_type": "markdown",
   "metadata": {},
   "source": [
    "写入word文档\n"
   ]
  },
  {
   "cell_type": "code",
   "execution_count": 7,
   "metadata": {},
   "outputs": [],
   "source": [
    "from docx import Document\n",
    "from docx.shared import Inches\n",
    "\n",
    "def write_into_new_word(heading:str,name:str,response):\n",
    "    # 创建一个 Word 文档对象\n",
    "    document = Document()\n",
    "    # 添加标题\n",
    "    document.add_heading(heading, 0)\n",
    "    #添加段落\n",
    "    document.add_paragraph(\"Subject: Chinese\")\n",
    "    document.add_paragraph(\"Level: Secondary 2 / S2 / F2\")\n",
    "    document.add_paragraph(\"Region: Hong Kong\")\n",
    "    document.add_paragraph(\"\")\n",
    "    #document.add_paragraph(\"Note: (a^2) mean the power of a is 2\")\n",
    "    #下面的for loop是讲扫描到的写入word文档，用不同的OCR写法不一样，可以先print一下\n",
    "    #response.json去看看格式然后去改下面的格式\n",
    "    for i in range(len(response.json()['words_result'])):\n",
    "        document.add_paragraph(response.json()['words_result'][i]['words'])\n",
    "    '''\n",
    "    for i in range(len(response.json()['results'])):\n",
    "        document.add_paragraph(response.json()['results'][i]['words']['word']) \n",
    "        #text = text + response.json()['results'][i]['words']['word'] +' '\n",
    "    '''\n",
    "    document.save(name)"
   ]
  },
  {
   "cell_type": "markdown",
   "metadata": {},
   "source": [
    "往现有的word文档里面填写资料"
   ]
  },
  {
   "cell_type": "code",
   "execution_count": 8,
   "metadata": {},
   "outputs": [],
   "source": [
    "\n",
    "def write_into_exist_word(name:str,response)->None:\n",
    "    # 打开现有的 Word 文档\n",
    "    document = Document(name)\n",
    "\n",
    "    #document.add_paragraph(\"Note: (a^2) mean the power of a is 2\")\n",
    "    #下面的for loop是讲扫描到的写入word文档，用不同的OCR写法不一样，可以先print一下\n",
    "    #response.json去看看格式然后去改下面的格式\n",
    "    for i in range(len(response.json()['words_result'])):\n",
    "        document.add_paragraph(response.json()['words_result'][i]['words'])\n",
    "    '''\n",
    "    for i in range(len(response.json()['results'])):\n",
    "        document.add_paragraph(response.json()['results'][i]['words']['word'])\n",
    "        #text = text + response.json()['results'][i]['words']['word'] +' '\n",
    "    '''\n",
    "    # 保存文档\n",
    "    document.save(name)"
   ]
  },
  {
   "cell_type": "markdown",
   "metadata": {},
   "source": [
    "查看文件路径是否按顺序"
   ]
  },
  {
   "cell_type": "code",
   "execution_count": 10,
   "metadata": {},
   "outputs": [
    {
     "name": "stdout",
     "output_type": "stream",
     "text": [
      "img5.jpg\n",
      "img11.jpg\n",
      "img15.jpg\n",
      "img19.jpg\n",
      "img23.jpg\n",
      "img27.jpg\n"
     ]
    }
   ],
   "source": [
    "import os\n",
    "import re\n",
    "\n",
    "folder_path = 'Engwriting'\n",
    "\n",
    "# 提取文件名中的数字部分并进行排序\n",
    "def sort_key(filename):\n",
    "    match = re.search(r'\\d+', filename)\n",
    "    return int(match.group()) if match else float('inf')\n",
    "\n",
    "# 获取文件列表并按数字排序\n",
    "filenames = sorted(os.listdir(folder_path), key=sort_key)\n",
    "\n",
    "# 打印排序后的文件名\n",
    "for filename in filenames:\n",
    "    print(filename)"
   ]
  },
  {
   "cell_type": "code",
   "execution_count": 11,
   "metadata": {},
   "outputs": [
    {
     "name": "stdout",
     "output_type": "stream",
     "text": [
      "{'words_result': [{'words': \"St. Edward's Catholic Primary School\"}, {'words': 'Primary 6 English'}, {'words': '2023-2024 Unit Assessment 3'}, {'words': 'Answer Sheet'}, {'words': 'Name:'}, {'words': 'Lucas lio'}, {'words': '11'}, {'words': ')'}, {'words': 'Class: 6'}, {'words': 'A'}, {'words': 'Write an e-mail to your friend Carrie about what happened. Write at least 100 words.'}, {'words': 'Hi Carrie,'}, {'words': 'How are you? Something happened to me yesterday.'}, {'words': 'On that day,I'}, {'words': 'Llas late to wake up so I as fast as a'}, {'words': 'roket to brush my teeth and dreed my clothes'}, {'words': 'then I went out.'}, {'words': \"Next,I went my school by my dod's cau.\"}, {'words': 'Suddenly,the car was stop so my pencil case'}, {'words': 'fall out but I was talk to my dad so I dik'}, {'words': 'h not know the pencil case fall out.'}, {'words': 'Then,I went in to my school.Tonday was.'}, {'words': \"my test,but I found I haven't boring my\"}, {'words': 'pencil case Oh no! I havent bring my pentil'}, {'words': 'lase!I shout.'}, {'words': 'Luckly,my classmate has more that one'}, {'words': 'pencil.\"Thank you!\\'I said,Lastly I get'}, {'words': 'A for the text'}, {'words': 'What an untfurgetoble day!'}], 'words_result_num': 29, 'log_id': 1821024328364770294}\n",
      "{'words_result': [{'words': \"St. Edward's Catholic Primary School\"}, {'words': 'Primary 6 English'}, {'words': '2023-2024 Unit Assessment 3'}, {'words': 'Answer Sheet'}, {'words': 'Name:'}, {'words': 'Bethany'}, {'words': '('}, {'words': '5'}, {'words': ')'}, {'words': 'Class: 6'}, {'words': 'A'}, {'words': 'Write an e-mail to your friend Carrie about what happened. Write at least 100 words.'}, {'words': 'Hi Carrie,'}, {'words': 'How are you? Something happened to me yesterday.'}, {'words': 'I got up late and I'}, {'words': 'took my schoolbay quickly,My dad said You should get up'}, {'words': 'early next time.Then we went out at 6:40 am.'}, {'words': 'After walking for few minutes,my dad dirved me to school.'}, {'words': 'We chated happly when the pencil case fell out from my schoolbag'}, {'words': \"However I didn't know.\"}, {'words': 'After 15 minutes, I arived schol. I had a test yesterday'}, {'words': \"but I couldn't find my penci case.I was neversed.I muttered\"}, {'words': 'What should I do now 7?'}, {'words': \"After a while, Leo sited next to me. He knew I didn't have\"}, {'words': 'pencil so he gave me one.After the test,I thanked him a lot.'}, {'words': 'I was thankful because Leo saved me!'}, {'words': 'What an unforgetable day!'}], 'words_result_num': 27, 'log_id': 1821024329511798342}\n",
      "{'words_result': [{'words': \"St. Edward's Catholic Primary School\"}, {'words': 'Primary 6 English'}, {'words': '2023-2024 Unit Assessment 3'}, {'words': 'Answer Sheet'}, {'words': 'Name:'}, {'words': 'Jimmy'}, {'words': '('}, {'words': '7'}, {'words': ')'}, {'words': 'Class: 6'}, {'words': 'A'}, {'words': 'Write an e-mail to your friend Carrie about what happened. Write at least 100 words.'}, {'words': 'Hi Carrie,'}, {'words': 'How are you? Something happened to me yesterday.'}, {'words': 'Yeserday,I woke up late.'}, {'words': 'oh mo,oh my goo!S I shouted,so I changed my clothes and packed'}, {'words': 'my schoolbag quickly.I felf worried because If I late for school,I'}, {'words': 'will fail on the test.'}, {'words': 'After changing for 2 minutes,my dad said Do you need help?Me'}, {'words': 'can'}, {'words': 'taxi you to schoolI answered sure dad,thank you?In a car'}, {'words': 'I was talking to my dad.but the pencil case fell ouf but I did'}, {'words': 'not it.I feh excited because I did not lafe for school now.'}, {'words': 'After 15 minutes. I arrived at school. Therefore I went to my'}, {'words': 'classroom quickly and I sited down, When I wanted to take my'}, {'words': 'pencil case but I did not find it. Oh my God, what should.'}, {'words': 'I do now!I felf worried again because If I did not bring the'}, {'words': 'pencil.I will fail the test.'}, {'words': 'Suddenly,I asked teacher,can you give me a penail?I torgot'}, {'words': 'to bring it Teacher answered sure.Then she give me a pencil'}, {'words': 'Then I got the high marks in the exam so I felt very happy'}, {'words': 'because. I did not fail in the exam.'}], 'words_result_num': 32, 'log_id': 1821024332158199105}\n",
      "{'words_result': [{'words': \"St. Edward's Catholic Primary School\"}, {'words': 'Primary 6 English'}, {'words': '2023-2024 Unit Assessment 3'}, {'words': 'Answer Sheet'}, {'words': 'Name:'}, {'words': 'Yoyo Tsuic'}, {'words': '20'}, {'words': ')'}, {'words': 'Class: 6'}, {'words': 'A'}, {'words': 'Write an e-mail to your friend Carrie about what happened. Write at least 100 words.'}, {'words': 'Hi Carrie,'}, {'words': 'How are you? Something hapened to me yesterday. I went to school'}, {'words': 'late so I took my schoobg to ran out home.My'}, {'words': 'dad said You go to school late!I was very worried'}, {'words': 'about I went to school will be late.'}, {'words': 'After a while, I went to school by car with'}, {'words': 'my dad.He and I talked about my school life.'}, {'words': 'happliy.I fell out my penoil case from my schoolbog'}, {'words': 'but I did not know.I was joyful.'}, {'words': 'Next,teacher gave me a test.I took out'}, {'words': 'my panicbut I did not find it from my scholbag.'}, {'words': 'Many classmates looked at me. I was blue.I'}, {'words': \"said What can I do now?'\"}, {'words': 'Finally,a classmate gave me a panic.I'}, {'words': \"said Thank you! You are helpful!' I was thankful\"}, {'words': 'because a classmate gave me a panic.'}, {'words': 'What an unforgettable day!'}], 'words_result_num': 28, 'log_id': 1821024334862183710}\n",
      "{'words_result': [{'words': \"St. Edward's Catholic Primary School\"}, {'words': 'Primary 6 English'}, {'words': '2023-2024 Unit Assessment 3'}, {'words': 'Answer Sheet'}, {'words': 'Name:'}, {'words': 'Hinson'}, {'words': '('}, {'words': ')'}, {'words': 'Class: 6'}, {'words': 'A'}, {'words': 'Write an e-mail to your friend Carrie about what happened. Write at least 100 words.'}, {'words': 'Hi Carrie,'}, {'words': 'How are you? Something happened to me yesterday.'}, {'words': 'I woke up late'}, {'words': 'because I studied test last night.I took'}, {'words': 'my scholbng.Dad told me.I needed to wake up'}, {'words': 'early or I will late for school.'}, {'words': 'After a while odad and I got in the car.I'}, {'words': 'chated with my dad.Sudenly, my pencil case fell'}, {'words': \"out but I didn't know.\"}, {'words': 'After 15 minutes, I arived at schol. I'}, {'words': 'rashed into my classroom and test started.'}, {'words': 'I wanted to take out my pencil case but I'}, {'words': \"couldn't find it.I was nervous.\"}, {'words': 'In the endy my classmate gave me a'}, {'words': 'pencil and easer. I was excited because I'}, {'words': 'could finish my test.'}, {'words': 'What a lacky day!'}], 'words_result_num': 28, 'log_id': 1821024338908588473}\n",
      "{'words_result': [{'words': \"St. Edward's Catholic Primary School\"}, {'words': 'Primary 6 English'}, {'words': '2023-2024 Unit Assessment 3'}, {'words': 'Answer Sheet'}, {'words': 'Name:'}, {'words': 'William'}, {'words': '13'}, {'words': 'Class: 6'}, {'words': 'A'}, {'words': 'Write an e-mail to your friend Carrie about what happened. Write at least 100 words.'}, {'words': 'Hi Carrie,'}, {'words': 'How are you? Something happened to me yesterday.'}, {'words': 'I was sleeping whey'}, {'words': 'My das shoutes bet upl sharon,I got up ar'}, {'words': 'got chamge gaickly.Atter gpt change,I ate breattast'}, {'words': 'and pack My schoolbag.I thoughtI will be late for'}, {'words': 'school!'}, {'words': \"After walking for a while, I went to dad's\"}, {'words': 'ar. My dad rove me to school quickly. Todan I'}, {'words': 'will have a test.I must so revision.I said.I hope'}, {'words': 'you can get high marks in the test, Dad replied. But'}, {'words': \"my pencil case fall out from my schoolbag. I xidn't\"}, {'words': 'moticed it.'}, {'words': 'After driving for 10 mimutes, I fimally went to'}, {'words': 'school.The test have already startel The teacher said'}, {'words': \"I will panic the test paper now. But I coulin't\"}, {'words': 'find my percil case.I felt shocked.I mutteret or'}, {'words': 'My god,What shoult I do mow?'}, {'words': 'At last,I asked the boy for help.The boy borower'}, {'words': 'some pencils and eraser. I telt relieved because I'}, {'words': 'can timish the test. What a special dan'}, {'words': 'Bests'}, {'words': 'sharon'}], 'words_result_num': 33, 'log_id': 1821024341188096355}\n"
     ]
    }
   ],
   "source": [
    "import os\n",
    "#改成你个人的图片集\n",
    "folder_path = 'Engwriting'\n",
    "# 二进制方式打开图片文件\n",
    "request_url = \"https://aip.baidubce.com/rest/2.0/ocr/v1/accurate_basic\"\n",
    "First_control = True\n",
    "\n",
    "for filename in sorted(os.listdir(folder_path), key=sort_key):\n",
    "    f = open(folder_path+\"/\"+filename, 'rb')\n",
    "    img = base64.b64encode(f.read())\n",
    "    params = {\"image\":img,\"language_type\":\"CHN_ENG\",\"result_type\":\"big\"}\n",
    "    access_token = access_token_link\n",
    "    request_url = request_url + \"?access_token=\" + access_token\n",
    "    headers = {'content-type': 'application/x-www-form-urlencoded'}\n",
    "    response = requests.post(request_url, data=params, headers=headers)\n",
    "    if response:\n",
    "        print (response.json())\n",
    "    if First_control:\n",
    "        write_into_new_word('Engwriting','writing.docx',response)\n",
    "        \n",
    "        First_control = False\n",
    "    else:\n",
    "        write_into_exist_word('writing.docx',response)"
   ]
  }
 ],
 "metadata": {
  "kernelspec": {
   "display_name": "Python 3",
   "language": "python",
   "name": "python3"
  },
  "language_info": {
   "codemirror_mode": {
    "name": "ipython",
    "version": 3
   },
   "file_extension": ".py",
   "mimetype": "text/x-python",
   "name": "python",
   "nbconvert_exporter": "python",
   "pygments_lexer": "ipython3",
   "version": "3.12.4"
  }
 },
 "nbformat": 4,
 "nbformat_minor": 2
}
