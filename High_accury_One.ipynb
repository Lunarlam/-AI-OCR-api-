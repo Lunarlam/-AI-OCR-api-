{
 "cells": [
  {
   "cell_type": "code",
   "execution_count": null,
   "metadata": {},
   "outputs": [],
   "source": [
    "!pip install requests\n",
    "!pip install python-docx"
   ]
  },
  {
   "cell_type": "code",
   "execution_count": 1,
   "metadata": {},
   "outputs": [],
   "source": [
    "import requests\n",
    "import json\n",
    "import base64\n",
    "import os\n",
    "import re\n",
    "from docx import Document\n",
    "from docx.shared import Inches\n",
    "\n"
   ]
  },
  {
   "cell_type": "markdown",
   "metadata": {},
   "source": [
    "#Get_accesscode 用于向百度获取access token key，第一个参数user_api是创建的应用API，第二个参数user_key是创建应用的key"
   ]
  },
  {
   "cell_type": "code",
   "execution_count": 3,
   "metadata": {},
   "outputs": [],
   "source": [
    "def get_accesscode(user_api:str,user_key:str)->str:\n",
    "    url = \"https://aip.baidubce.com/oauth/2.0/token?client_id=\"+user_api+\"&client_secret=\"+user_key+\"&grant_type=client_credentials\"\n",
    "    \n",
    "    payload = json.dumps(\"\")\n",
    "    headers = {\n",
    "        'Content-Type': 'application/json',\n",
    "        'Accept': 'application/json'\n",
    "    }\n",
    "    \n",
    "    response = requests.request(\"POST\", url, headers=headers, data=payload)\n",
    "    access_token = response.json()['access_token']\n",
    "    return access_token\n",
    "\n",
    "access_token_link = get_accesscode(\"xxx\",\"xxx\")"
   ]
  },
  {
   "cell_type": "markdown",
   "metadata": {},
   "source": [
    "写入word文档\n"
   ]
  },
  {
   "cell_type": "code",
   "execution_count": 7,
   "metadata": {},
   "outputs": [],
   "source": [
    "def write_into_new_word(heading:str,name:str,response):\n",
    "    # 创建一个 Word 文档对象\n",
    "    document = Document()\n",
    "    # 添加标题\n",
    "    document.add_heading(heading, 0)\n",
    "    #添加段落\n",
    "    document.add_paragraph(\"Subject: Chinese\")\n",
    "    document.add_paragraph(\"Level: Secondary 2 / S2 / F2\")\n",
    "    document.add_paragraph(\"Region: Hong Kong\")\n",
    "    document.add_paragraph(\"\")\n",
    "\n",
    "    \n",
    "    #document.add_paragraph(\"Note: (a^2) mean the power of a is 2\")\n",
    "    #下面的for loop是讲扫描到的写入word文档，用不同的OCR写法不一样，可以先print一下\n",
    "    #response.json去看看格式然后去改下面的格式\n",
    "    for i in range(len(response.json()['words_result'])):\n",
    "        document.add_paragraph(response.json()['words_result'][i]['words'])\n",
    "    '''\n",
    "    for i in range(len(response.json()['results'])):\n",
    "        document.add_paragraph(response.json()['results'][i]['words']['word']) \n",
    "        #text = text + response.json()['results'][i]['words']['word'] +' '\n",
    "    '''\n",
    "    document.save(name)"
   ]
  },
  {
   "cell_type": "markdown",
   "metadata": {},
   "source": [
    "往现有的word文档里面填写资料"
   ]
  },
  {
   "cell_type": "code",
   "execution_count": 8,
   "metadata": {},
   "outputs": [],
   "source": [
    "\n",
    "def write_into_exist_word(name:str,response)->None:\n",
    "    # 打开现有的 Word 文档\n",
    "    document = Document(name)\n",
    "\n",
    "    #document.add_paragraph(\"Note: (a^2) mean the power of a is 2\")\n",
    "    #下面的for loop是讲扫描到的写入word文档，用不同的OCR写法不一样，可以先print一下\n",
    "    #response.json去看看格式然后去改下面的格式\n",
    "    for i in range(len(response.json()['words_result'])):\n",
    "        document.add_paragraph(response.json()['words_result'][i]['words'])\n",
    "        \n",
    "    '''\n",
    "    for i in range(len(response.json()['results'])):\n",
    "        document.add_paragraph(response.json()['results'][i]['words']['word'])\n",
    "        #text = text + response.json()['results'][i]['words']['word'] +' '\n",
    "    '''\n",
    "    # 保存文档\n",
    "    document.save(name)"
   ]
  },
  {
   "cell_type": "markdown",
   "metadata": {},
   "source": [
    "查看文件路径是否按顺序"
   ]
  },
  {
   "cell_type": "code",
   "execution_count": 10,
   "metadata": {},
   "outputs": [
    {
     "name": "stdout",
     "output_type": "stream",
     "text": [
      "img5.jpg\n",
      "img11.jpg\n",
      "img15.jpg\n",
      "img19.jpg\n",
      "img23.jpg\n",
      "img27.jpg\n"
     ]
    }
   ],
   "source": [
    "import os\n",
    "import re\n",
    "\n",
    "folder_path = 'Engwriting'\n",
    "\n",
    "# 提取文件名中的数字部分并进行排序\n",
    "def sort_key(filename):\n",
    "    match = re.search(r'\\d+', filename)\n",
    "    return int(match.group()) if match else float('inf')\n",
    "\n",
    "# 获取文件列表并按数字排序\n",
    "filenames = sorted(os.listdir(folder_path), key=sort_key)\n",
    "\n",
    "# 打印排序后的文件名\n",
    "for filename in filenames:\n",
    "    print(filename)"
   ]
  },
  {
   "cell_type": "code",
   "execution_count": null,
   "metadata": {},
   "outputs": [],
   "source": [
    "import os\n",
    "#改成你个人的图片集\n",
    "folder_path = 'Engwriting'\n",
    "# 二进制方式打开图片文件\n",
    "request_url = \"https://aip.baidubce.com/rest/2.0/ocr/v1/accurate_basic\"\n",
    "#request_url每个服务都不一样，可以在百度的技术文档中找到相对应的url\n",
    "First_control = True\n",
    "\n",
    "for filename in sorted(os.listdir(folder_path), key=sort_key):\n",
    "    f = open(folder_path+\"/\"+filename, 'rb')\n",
    "    img = base64.b64encode(f.read())\n",
    "    \n",
    "    params = {\"image\":img,\"language_type\":\"CHN_ENG\",\"result_type\":\"big\"}\n",
    "    #前面向百度请求的token\n",
    "    access_token = access_token_link\n",
    "\n",
    "    request_url = request_url + \"?access_token=\" + access_token\n",
    "    headers = {'content-type': 'application/x-www-form-urlencoded'}\n",
    "\n",
    "    response = requests.post(request_url, data=params, headers=headers)\n",
    "    if response:\n",
    "        print (response.json())\n",
    "    #第一次获取就写入并创建Word 文档\n",
    "    if First_control:\n",
    "        write_into_new_word('Engwriting','writing.docx',response)     \n",
    "        First_control = False\n",
    "    #第二次开始就加入现有文档，确保现有文档\n",
    "    else:\n",
    "        write_into_exist_word('writing.docx',response)"
   ]
  }
 ],
 "metadata": {
  "kernelspec": {
   "display_name": "Python 3",
   "language": "python",
   "name": "python3"
  },
  "language_info": {
   "codemirror_mode": {
    "name": "ipython",
    "version": 3
   },
   "file_extension": ".py",
   "mimetype": "text/x-python",
   "name": "python",
   "nbconvert_exporter": "python",
   "pygments_lexer": "ipython3",
   "version": "3.12.4"
  }
 },
 "nbformat": 4,
 "nbformat_minor": 2
}
